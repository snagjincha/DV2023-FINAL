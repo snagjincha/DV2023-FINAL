{
 "cells": [
  {
   "cell_type": "raw",
   "id": "2b6ce311",
   "metadata": {},
   "source": [
    "---\n",
    "title: \"에너지사용량 자료 분석\"\n",
    "author: \"차상진\"\n",
    "format: dashboard\n",
    "execute: \n",
    "  enabled: true\n",
    "  cache: false\n",
    "  freeze: false\n",
    "  error: true\n",
    "---"
   ]
  },
  {
   "cell_type": "code",
   "execution_count": null,
   "id": "cb220c03",
   "metadata": {},
   "outputs": [],
   "source": [
    "import numpy as np\n",
    "import pandas as pd\n",
    "import plotly.express as px\n",
    "import plotly.io as pio\n",
    "import json\n",
    "import requests\n",
    "\n",
    "pd.options.plotting.backend = \"plotly\"\n",
    "pio.templates.default = \"plotly_white\"\n",
    "\n",
    "global_dict = json.loads(requests.get('https://raw.githubusercontent.com/southkorea/southkorea-maps/master/kostat/2018/json/skorea-provinces-2018-geo.json').text)\n",
    "local_dict = json.loads(requests.get('https://raw.githubusercontent.com/southkorea/southkorea-maps/master/kostat/2018/json/skorea-municipalities-2018-geo.json').text)\n",
    "#--#\n",
    "url = 'https://raw.githubusercontent.com/guebin/DV2022/main/posts/Energy/{}.csv'\n",
    "prov = ['Seoul', 'Busan', 'Daegu', 'Incheon', \n",
    "        'Gwangju', 'Daejeon', 'Ulsan', 'Sejongsi', \n",
    "        'Gyeonggi-do', 'Gangwon-do', 'Chungcheongbuk-do', \n",
    "        'Chungcheongnam-do', 'Jeollabuk-do', 'Jeollanam-do', \n",
    "        'Gyeongsangbuk-do', 'Gyeongsangnam-do', 'Jeju-do']\n",
    "df = pd.concat([pd.read_csv(url.format(p+y)).assign(년도=y, 시도=p) for p in prov for y in ['2018', '2019', '2020', '2021']]).reset_index(drop=True)\\\n",
    ".assign(년도 = lambda df: df.년도.astype(int))\\\n",
    ".set_index(['년도','시도','지역']).applymap(lambda x: int(str(x).replace(',','')))\\\n",
    ".reset_index()\n",
    "df_global = pd.DataFrame([l['properties'] for l in global_dict['features']])\n",
    "df_local = pd.DataFrame([l['properties'] for l in local_dict['features']])\n",
    "df_json = df_local.set_index('name')\\\n",
    ".rename(\n",
    "    {name:name.split('시')[-1] for name in df_local['name'] if ('시' in name) and ('구' in name) and (len(name)>3)}\n",
    ").reset_index()\\\n",
    ".drop(['base_year','name_eng'],axis=1)\\\n",
    ".rename({'name':'name_local','code':'code_local'},axis=1)\\\n",
    ".assign(code = lambda df: df['code_local'].str[:2])\\\n",
    ".merge(df_global.drop(['base_year','name_eng'],axis=1))\n",
    "df_left = df.assign(\n",
    "    시도 = lambda df: df.시도.map({l['properties']['name_eng']:l['properties']['name'] for l in global_dict['features']})\n",
    ").assign(on = lambda df: df.시도 + '-' + df.지역)\n",
    "df_right = df_json.assign(on = lambda df: df.name + '-' + df.name_local)\\\n",
    ".drop(['name_local','name'],axis=1)\n",
    "df2 = df_left.merge(\n",
    "    df_right.set_index('on')\\\n",
    "    .rename({'인천광역시-남구':'인천광역시-미추홀구'})\\\n",
    "    .reset_index()\n",
    ").drop(['on'],axis=1)"
   ]
  },
  {
   "cell_type": "markdown",
   "id": "b5d65d85",
   "metadata": {},
   "source": [
    "# 데이터탐색\n"
   ]
  },
  {
   "cell_type": "code",
   "execution_count": null,
   "id": "e94fb28e",
   "metadata": {
    "title": "에너지사용량 자료"
   },
   "outputs": [],
   "source": [
    "import itables \n",
    "itables.show(df2,showIndex=False)"
   ]
  },
  {
   "cell_type": "markdown",
   "id": "081867ff",
   "metadata": {},
   "source": [
    "# 시각화 {orientation=\"columns\" scrolling=\"true\"}\n",
    "\n",
    "## Column {width=50%}\n"
   ]
  },
  {
   "cell_type": "code",
   "execution_count": null,
   "id": "e45702da",
   "metadata": {
    "title": "2018년도 전기사용량 (전국)"
   },
   "outputs": [],
   "source": [
    "fig = px.choropleth_mapbox(\n",
    "    geojson = local_dict,\n",
    "    featureidkey = 'properties.code',\n",
    "    data_frame = df2.query('년도 == 2018'),\n",
    "    locations = 'code_local',\n",
    "    color = '에너지사용량(TOE)/전기',\n",
    "    hover_data = ['시도','지역'],\n",
    "    #---#\n",
    "    mapbox_style=\"carto-positron\",\n",
    "    range_color = [0,200000],\n",
    "    center={\"lat\": 36, \"lon\": 127.5}, \n",
    "    zoom=6,\n",
    ")\n",
    "fig.show(config={'scrollZoom':False})"
   ]
  },
  {
   "cell_type": "markdown",
   "id": "7afd2563",
   "metadata": {},
   "source": [
    "## Column {width=50%}\n"
   ]
  },
  {
   "cell_type": "code",
   "execution_count": null,
   "id": "554db414",
   "metadata": {
    "title": "2018~2019년도 전기사용량 (서울)"
   },
   "outputs": [],
   "source": [
    "seoul_dict = local_dict.copy() \n",
    "seoul_dict['features'] = [l for l in seoul_dict['features'] if l['properties']['code'][:2] == '11']\n",
    "fig = px.choropleth_mapbox(\n",
    "    geojson = seoul_dict,\n",
    "    featureidkey = 'properties.code',\n",
    "    data_frame = df2,\n",
    "    locations = 'code_local',\n",
    "    color = '에너지사용량(TOE)/전기',\n",
    "    animation_frame= '년도',\n",
    "    hover_data = ['시도','지역'],\n",
    "    #---#\n",
    "    mapbox_style=\"carto-positron\",\n",
    "    range_color = [0,400000],\n",
    "    center={\"lat\": 37.5642135, \"lon\": 127.0016985},\n",
    "    zoom=9,\n",
    ")\n",
    "fig.show(config={'scrollZoom':False})"
   ]
  },
  {
   "cell_type": "code",
   "execution_count": null,
   "id": "4fb28bad",
   "metadata": {
    "title": "2018~2019년도 에너지사용량 (전국)"
   },
   "outputs": [],
   "source": [
    "fig = df2.drop(['code_local','code'],axis=1)\\\n",
    ".set_index(['년도','시도','지역','건물동수','연면적']).stack().reset_index()\\\n",
    ".rename({'level_5':'에너지종류', 0:'에너지사용량'},axis=1)\\\n",
    ".assign(에너지종류 = lambda df: df['에너지종류'].str.split('/').str[-1])\\\n",
    ".groupby(['년도','시도','에너지종류']).agg({'에너지사용량':'sum'})\\\n",
    ".stack().reset_index()\\\n",
    ".rename({0:'에너지사용량'},axis=1)\\\n",
    ".plot.area(\n",
    "    x='년도',y='에너지사용량',\n",
    "    color='시도',\n",
    "    facet_col='에너지종류'\n",
    ")\n",
    "fig.update_layout(\n",
    "    xaxis_domain=[0.0, 0.25],\n",
    "    xaxis2_domain=[0.35, 0.60],\n",
    "    xaxis3_domain=[0.70, 0.95]\n",
    ")"
   ]
  }
 ],
 "metadata": {
  "kernelspec": {
   "display_name": "Python 3 (ipykernel)",
   "language": "python",
   "name": "python3"
  },
  "language_info": {
   "codemirror_mode": {
    "name": "ipython",
    "version": 3
   },
   "file_extension": ".py",
   "mimetype": "text/x-python",
   "name": "python",
   "nbconvert_exporter": "python",
   "pygments_lexer": "ipython3",
   "version": "3.10.13"
  }
 },
 "nbformat": 4,
 "nbformat_minor": 5
}
