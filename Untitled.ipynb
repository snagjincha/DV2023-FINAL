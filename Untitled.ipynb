{
 "cells": [
  {
   "cell_type": "code",
   "execution_count": 19,
   "id": "b811270a-b1d1-4a18-a66a-e9e68a4f055e",
   "metadata": {},
   "outputs": [
    {
     "ename": "SyntaxError",
     "evalue": "invalid syntax (1904328273.py, line 5)",
     "output_type": "error",
     "traceback": [
      "\u001b[0;36m  Cell \u001b[0;32mIn[19], line 5\u001b[0;36m\u001b[0m\n\u001b[0;31m    execute:\u001b[0m\n\u001b[0m             ^\u001b[0m\n\u001b[0;31mSyntaxError\u001b[0m\u001b[0;31m:\u001b[0m invalid syntax\n"
     ]
    }
   ],
   "source": [
    "# ---\n",
    "title: \"Energy\"\n",
    "author: \"차상진\"\n",
    "format: dashboard\n",
    "execute: \n",
    "  enabled: true\n",
    "  cache: false\n",
    "  freeze: false\n",
    "# ---"
   ]
  },
  {
   "cell_type": "code",
   "execution_count": 11,
   "id": "ec133c7b-84d5-4360-9b3d-27f4d46ab844",
   "metadata": {},
   "outputs": [
    {
     "name": "stderr",
     "output_type": "stream",
     "text": [
      "/tmp/ipykernel_702/1516935476.py:22: FutureWarning:\n",
      "\n",
      "DataFrame.applymap has been deprecated. Use DataFrame.map instead.\n",
      "\n"
     ]
    }
   ],
   "source": [
    "import numpy as np\n",
    "import pandas as pd\n",
    "import plotly.express as px\n",
    "import plotly.io as pio\n",
    "import json\n",
    "import requests\n",
    "\n",
    "pd.options.plotting.backend = \"plotly\"\n",
    "pio.templates.default = \"plotly_white\"\n",
    "\n",
    "global_dict = json.loads(requests.get('https://raw.githubusercontent.com/southkorea/southkorea-maps/master/kostat/2018/json/skorea-provinces-2018-geo.json').text)\n",
    "local_dict = json.loads(requests.get('https://raw.githubusercontent.com/southkorea/southkorea-maps/master/kostat/2018/json/skorea-municipalities-2018-geo.json').text)\n",
    "#--#\n",
    "url = 'https://raw.githubusercontent.com/guebin/DV2022/main/posts/Energy/{}.csv'\n",
    "prov = ['Seoul', 'Busan', 'Daegu', 'Incheon', \n",
    "        'Gwangju', 'Daejeon', 'Ulsan', 'Sejongsi', \n",
    "        'Gyeonggi-do', 'Gangwon-do', 'Chungcheongbuk-do', \n",
    "        'Chungcheongnam-do', 'Jeollabuk-do', 'Jeollanam-do', \n",
    "        'Gyeongsangbuk-do', 'Gyeongsangnam-do', 'Jeju-do']\n",
    "df = pd.concat([pd.read_csv(url.format(p+y)).assign(년도=y, 시도=p) for p in prov for y in ['2018', '2019', '2020', '2021']]).reset_index(drop=True)\\\n",
    ".assign(년도 = lambda df: df.년도.astype(int))\\\n",
    ".set_index(['년도','시도','지역']).applymap(lambda x: int(str(x).replace(',','')))\\\n",
    ".reset_index()\n",
    "df_global = pd.DataFrame([l['properties'] for l in global_dict['features']])\n",
    "df_local = pd.DataFrame([l['properties'] for l in local_dict['features']])\n",
    "df_json = df_local.set_index('name')\\\n",
    ".rename(\n",
    "    {name:name.split('시')[-1] for name in df_local['name'] if ('시' in name) and ('구' in name) and (len(name)>3)}\n",
    ").reset_index()\\\n",
    ".drop(['base_year','name_eng'],axis=1)\\\n",
    ".rename({'name':'name_local','code':'code_local'},axis=1)\\\n",
    ".assign(code = lambda df: df['code_local'].str[:2])\\\n",
    ".merge(df_global.drop(['base_year','name_eng'],axis=1))\n",
    "df_left = df.assign(\n",
    "    시도 = lambda df: df.시도.map({l['properties']['name_eng']:l['properties']['name'] for l in global_dict['features']})\n",
    ").assign(on = lambda df: df.시도 + '-' + df.지역)\n",
    "df_right = df_json.assign(on = lambda df: df.name + '-' + df.name_local)\\\n",
    ".drop(['name_local','name'],axis=1)\n",
    "df2 = df_left.merge(\n",
    "    df_right.set_index('on')\\\n",
    "    .rename({'인천광역시-남구':'인천광역시-미추홀구'})\\\n",
    "    .reset_index()\n",
    ").drop(['on'],axis=1)"
   ]
  },
  {
   "cell_type": "code",
   "execution_count": 17,
   "id": "a7a9410c-7580-4b2b-a1c8-378df3c12cca",
   "metadata": {},
   "outputs": [
    {
     "ename": "ModuleNotFoundError",
     "evalue": "No module named 'itables'",
     "output_type": "error",
     "traceback": [
      "\u001b[0;31m---------------------------------------------------------------------------\u001b[0m",
      "\u001b[0;31mModuleNotFoundError\u001b[0m                       Traceback (most recent call last)",
      "Cell \u001b[0;32mIn[17], line 2\u001b[0m\n\u001b[1;32m      1\u001b[0m \u001b[38;5;66;03m# | title: 에너지사용량 자료 \u001b[39;00m\n\u001b[0;32m----> 2\u001b[0m \u001b[38;5;28;01mimport\u001b[39;00m \u001b[38;5;21;01mitables\u001b[39;00m \n\u001b[1;32m      3\u001b[0m itables\u001b[38;5;241m.\u001b[39mshow(df2,showIndex\u001b[38;5;241m=\u001b[39m\u001b[38;5;28;01mFalse\u001b[39;00m)\n",
      "\u001b[0;31mModuleNotFoundError\u001b[0m: No module named 'itables'"
     ]
    }
   ],
   "source": [
    "# | title: 에너지사용량 자료 \n",
    "import itables \n",
    "itables.show(df2,showIndex=False)"
   ]
  },
  {
   "cell_type": "code",
   "execution_count": null,
   "id": "8de696d1-4497-4ec9-ae9c-b2b278124016",
   "metadata": {},
   "outputs": [],
   "source": [
    "# 시각화 {orientation=\"columns\" scrolling=\"true\"}\n",
    "\n",
    "## Column {width=50%}"
   ]
  },
  {
   "cell_type": "code",
   "execution_count": null,
   "id": "d0bb3a27-5287-4ba2-b204-b9c48cc59646",
   "metadata": {},
   "outputs": [],
   "source": [
    "\n",
    "#| title: 2018년도 전기사용량 (전국)\n",
    "fig = px.choropleth_mapbox(\n",
    "    geojson = local_dict,\n",
    "    featureidkey = 'properties.code',\n",
    "    data_frame = df2.query('년도 == 2018'),\n",
    "    locations = 'code_local',\n",
    "    color = '에너지사용량(TOE)/전기',\n",
    "    hover_data = ['시도','지역'],\n",
    "    #---#\n",
    "    mapbox_style=\"carto-positron\",\n",
    "    range_color = [0,200000],\n",
    "    center={\"lat\": 36, \"lon\": 127.5}, \n",
    "    zoom=6,\n",
    ")\n",
    "fig.show(config={'scrollZoom':False})\n"
   ]
  },
  {
   "cell_type": "code",
   "execution_count": null,
   "id": "835077ca-2b58-4a8c-8250-1f5e4f66c1d5",
   "metadata": {},
   "outputs": [],
   "source": [
    "## Column {width=50%}\n",
    "#| title: 2018~2019년도 전기사용량 (서울)\n",
    "seoul_dict = local_dict.copy() \n",
    "seoul_dict['features'] = [l for l in seoul_dict['features'] if l['properties']['code'][:2] == '11']\n",
    "fig = px.choropleth_mapbox(\n",
    "    geojson = seoul_dict,\n",
    "    featureidkey = 'properties.code',\n",
    "    data_frame = df2,\n",
    "    locations = 'code_local',\n",
    "    color = '에너지사용량(TOE)/전기',\n",
    "    animation_frame= '년도',\n",
    "    hover_data = ['시도','지역'],\n",
    "    #---#\n",
    "    mapbox_style=\"carto-positron\",\n",
    "    range_color = [0,400000],\n",
    "    center={\"lat\": 37.5642135, \"lon\": 127.0016985},\n",
    "    zoom=9,\n",
    ")\n",
    "fig.show(config={'scrollZoom':False})"
   ]
  },
  {
   "cell_type": "code",
   "execution_count": null,
   "id": "8adeb567-22ae-4be1-ae90-5c7226581f31",
   "metadata": {},
   "outputs": [],
   "source": [
    "#| title: 2018~2019년도 에너지사용량 (전국)\n",
    "fig = df2.drop(['code_local','code'],axis=1)\\\n",
    ".set_index(['년도','시도','지역','건물동수','연면적']).stack().reset_index()\\\n",
    ".rename({'level_5':'에너지종류', 0:'에너지사용량'},axis=1)\\\n",
    ".assign(에너지종류 = lambda df: df['에너지종류'].str.split('/').str[-1])\\\n",
    ".groupby(['년도','시도','에너지종류']).agg({'에너지사용량':'sum'})\\\n",
    ".stack().reset_index()\\\n",
    ".rename({0:'에너지사용량'},axis=1)\\\n",
    ".plot.area(\n",
    "    x='년도',y='에너지사용량',\n",
    "    color='시도',\n",
    "    facet_col='에너지종류'\n",
    ")\n",
    "fig.update_layout(\n",
    "    xaxis_domain=[0.0, 0.25],\n",
    "    xaxis2_domain=[0.35, 0.60],\n",
    "    xaxis3_domain=[0.70, 0.95]\n",
    ")\n"
   ]
  },
  {
   "cell_type": "code",
   "execution_count": null,
   "id": "6a777105-6399-4ce5-87c7-d7580cc2d0a8",
   "metadata": {},
   "outputs": [],
   "source": []
  },
  {
   "cell_type": "code",
   "execution_count": null,
   "id": "0cdb43e9-b7b5-4328-8855-8590c773643b",
   "metadata": {},
   "outputs": [],
   "source": []
  },
  {
   "cell_type": "code",
   "execution_count": null,
   "id": "cd346e94-b4d5-4591-a7e5-9db5d7267cdd",
   "metadata": {},
   "outputs": [],
   "source": []
  },
  {
   "cell_type": "code",
   "execution_count": null,
   "id": "23195182-11e7-47a2-810a-36da34b9cceb",
   "metadata": {},
   "outputs": [],
   "source": []
  },
  {
   "cell_type": "code",
   "execution_count": null,
   "id": "23697ac9-13d2-4b76-b456-fc4932bb281e",
   "metadata": {},
   "outputs": [],
   "source": []
  },
  {
   "cell_type": "code",
   "execution_count": null,
   "id": "d3041668-0033-4895-bad5-9724278ae566",
   "metadata": {},
   "outputs": [],
   "source": []
  },
  {
   "cell_type": "code",
   "execution_count": null,
   "id": "c88bd364-2670-46e4-9798-6d5867818707",
   "metadata": {},
   "outputs": [],
   "source": []
  },
  {
   "cell_type": "code",
   "execution_count": null,
   "id": "a12eb640-487d-4995-a335-d2d30e5cf827",
   "metadata": {},
   "outputs": [],
   "source": []
  },
  {
   "cell_type": "code",
   "execution_count": null,
   "id": "0c350688-4a60-4cf6-9feb-1a84232fe33f",
   "metadata": {},
   "outputs": [],
   "source": []
  },
  {
   "cell_type": "code",
   "execution_count": null,
   "id": "45134869-2ef8-4d32-9a51-4bab1a377b16",
   "metadata": {},
   "outputs": [],
   "source": []
  }
 ],
 "metadata": {
  "kernelspec": {
   "display_name": "Python 3 (ipykernel)",
   "language": "python",
   "name": "python3"
  },
  "language_info": {
   "codemirror_mode": {
    "name": "ipython",
    "version": 3
   },
   "file_extension": ".py",
   "mimetype": "text/x-python",
   "name": "python",
   "nbconvert_exporter": "python",
   "pygments_lexer": "ipython3",
   "version": "3.10.13"
  }
 },
 "nbformat": 4,
 "nbformat_minor": 5
}
